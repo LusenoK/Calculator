{
 "cells": [
  {
   "cell_type": "markdown",
   "id": "a0c51bfd",
   "metadata": {},
   "source": [
    "This is a simple calculator.\n",
    "\n",
    "It carries out addition, subtraction, multiplication and division.\n",
    "\n",
    "These are the steps:\n",
    "\n",
    "- Recieve user input on the operation to be carried out.\n",
    "\n",
    "- Recieve user input on the two values to be calculated.\n",
    "\n",
    "- Perform the calculation\n",
    "\n",
    "- Display the output."
   ]
  },
  {
   "cell_type": "code",
   "execution_count": 1,
   "id": "5d76baaf",
   "metadata": {},
   "outputs": [
    {
     "name": "stdout",
     "output_type": "stream",
     "text": [
      "Welcome! This is Zidi the calculator.\n",
      "\n",
      "Which operation would you want to carry out?\n",
      "1. Addition\n",
      "2. Subtraction\n",
      "3. Multiplication\n",
      "4. Division\n",
      "5. Exit\n",
      "\n",
      "The multiplication of 78.0 and 56.0 is 4368.0\n"
     ]
    }
   ],
   "source": [
    "\"\"\"Methods for the operations\"\"\"\n",
    "def add(a, b):\n",
    "    \"\"\"addition\"\"\"\n",
    "    sum = float(a) + float(b)\n",
    "    print(f\"The sum of {a} and {b} is {sum:.1f}\")\n",
    "def subtract(a, b):\n",
    "    \"\"\"subtraction\"\"\"\n",
    "    diff = float(a) - float(b)\n",
    "    print(f\"The difference between {a} and {b} is {diff:.1f}\")\n",
    "def multiply(a, b):\n",
    "    \"\"\"multiplication\"\"\"\n",
    "    multi = float(a) * float(b)\n",
    "    print(f\"The multiplication of {a} and {b} is {multi:.1f}\")\n",
    "def division(a, b):\n",
    "    \"\"\"division\"\"\"\n",
    "    div = float(a) / float(b)\n",
    "    print(f\"The division of {a} by {b} is {div:.2f}\")\n",
    "\n",
    "print(\"Welcome! This is Zidi the calculator.\")\n",
    "print() \n",
    "\"\"\"Skips a line\"\"\"\n",
    "print(\"Which operation would you want to carry out?\")\n",
    "operations = [\"Addition\", \"Subtraction\", \"Multiplication\", \"Division\", \"Exit\"]\n",
    "count = 1\n",
    "for operator in operations:\n",
    "    print(f\"{count}. {operator}\")\n",
    "    count +=1\n",
    "print()\n",
    "c = int (input(\"Enter your choice\"))\n",
    "if c == 5:\n",
    "    print(\"Exiting Zidi! Adios\")\n",
    "elif c < 1 or c > 5:\n",
    "    print(\"Invalid value\")    \n",
    "else:\n",
    "    a = float(input(\"Enter the first number:\"))\n",
    "    b = float(input(\"Enter the first number:\"))\n",
    "    if c == 1:\n",
    "        add(a, b)\n",
    "    elif c == 2:\n",
    "        subtract(a, b)\n",
    "    elif c == 3:\n",
    "        multiply(a, b)\n",
    "    elif c == 4:\n",
    "        division(a, b)\n"
   ]
  }
 ],
 "metadata": {
  "kernelspec": {
   "display_name": "Python 3",
   "language": "python",
   "name": "python3"
  },
  "language_info": {
   "codemirror_mode": {
    "name": "ipython",
    "version": 3
   },
   "file_extension": ".py",
   "mimetype": "text/x-python",
   "name": "python",
   "nbconvert_exporter": "python",
   "pygments_lexer": "ipython3",
   "version": "3.11.9"
  }
 },
 "nbformat": 4,
 "nbformat_minor": 5
}
